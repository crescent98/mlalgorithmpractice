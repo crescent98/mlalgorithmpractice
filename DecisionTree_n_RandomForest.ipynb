{
 "cells": [
  {
   "cell_type": "markdown",
   "metadata": {},
   "source": [
    "Decision Tree"
   ]
  },
  {
   "cell_type": "code",
   "execution_count": 1,
   "metadata": {},
   "outputs": [],
   "source": [
    "def gini(dataset):\n",
    "    impurity=1\n",
    "    # 데이터셋에 포함된 class의 수를 class 이름: class 수와 같은 key:value 쌍으로 저장\n",
    "    label_counts=Counter(dataset)\n",
    "    # 각 class 들이 차지하는 비율의 제곱값을 impuiry 에서 빼 나간다\n",
    "    for label in label_counts:\n",
    "        prob_of_label=label_counts[label]/len(dataset)\n",
    "        impurity-=prob_of_label**2\n",
    "    return impurity\n",
    "    "
   ]
  },
  {
   "cell_type": "code",
   "execution_count": 2,
   "metadata": {},
   "outputs": [],
   "source": [
    "def information_gain(starting_labels, split_labels):\n",
    "    # information_gain 을 분할 전 그룹의 gini impurity 로 초기화\n",
    "    info_gain=gini(starting_labels)\n",
    "    # 분할 된 각 그룹에서의 gini impurity와 분할 전 그룹과의 데이터 수 비율을 곱한 값을 빼 나간다\n",
    "    for subset in split_labels:\n",
    "        info_gain-=gini(subset)*len(subset)/len(starting_labels)\n",
    "    return info_gain"
   ]
  },
  {
   "cell_type": "code",
   "execution_count": 5,
   "metadata": {},
   "outputs": [],
   "source": [
    "def split(dataset, labels, column):\n",
    "    data_subsets=[] # 분할 후의 데이터 그룹을 저장하는 배열\n",
    "    label_subsets=[] # 분할 후의 class(label) 그룹을 저장하는 배열\n",
    "    # 주어진 기준 column 의 unique 한 값들을 저장한다\n",
    "    counts=list(set([data[column] for data in dataset]))\n",
    "    counts.sort()\n",
    "    for k in counts:\n",
    "        new_data_subset=[]\n",
    "        new_label_subset=[]\n",
    "        for i in range(len(dataset)):\n",
    "            # 주어진 데이터의 특정 column 의 값이 k라면 해당 데이터를 k번째 그룹에 담는다\n",
    "            if dataset[i][column]==k:\n",
    "                new_data_subset.append(dataset[i])\n",
    "                new_label_subset.append(labels[i])\n",
    "        data_subsets.append(new_data_subset) # k 그룹을 분할 후 그룹을 저장하는 배열에 추가\n",
    "        label_subsets.append(new_label_subset)\n",
    "    return data_subsets, label_subsets"
   ]
  },
  {
   "cell_type": "code",
   "execution_count": 6,
   "metadata": {},
   "outputs": [],
   "source": [
    "def find_best_split(dataset, labels):\n",
    "    best_gain=0\n",
    "    best_feature=0\n",
    "    for feature in range(len(dataset[0])):\n",
    "        data_subsets, label_subsets=split(dataset, labels, feature)\n",
    "        gain=information_gain(labels, label_subsets)\n",
    "        if gain>best_gain:\n",
    "            best_gain,best_feature=gain,feature\n",
    "    return best_feature, best_gain"
   ]
  },
  {
   "cell_type": "code",
   "execution_count": 7,
   "metadata": {},
   "outputs": [],
   "source": [
    "def build_tree(data,labels):\n",
    "    # 데이터를 분할 할 최적의 feature를 찾는다\n",
    "    best_feature, best_gain=find_best_split(data,labels)\n",
    "    # 만약 분할 후의 information_gain이 0이라면 해당 노드는 더 분할할 필요가 없으므로 빠져나온다\n",
    "    if best_gain==0:\n",
    "        return Counter(labels)\n",
    "    # 데이터를 찾은 feature로 분할한다\n",
    "    data_subsets, label_subsets=split(data,labels, best_feature)\n",
    "    \n",
    "    branches=[]\n",
    "    # 분할 후 각 그룹에 대해서 build_tree 함수를 재귀적으로 호출\n",
    "    for i in range(len(data_subsets)):\n",
    "        branches.append(build_tree(data_subsets[i],label_subsets[i]))\n",
    "        \n",
    "    return branches"
   ]
  }
 ],
 "metadata": {
  "kernelspec": {
   "display_name": "Python 3",
   "language": "python",
   "name": "python3"
  },
  "language_info": {
   "codemirror_mode": {
    "name": "ipython",
    "version": 3
   },
   "file_extension": ".py",
   "mimetype": "text/x-python",
   "name": "python",
   "nbconvert_exporter": "python",
   "pygments_lexer": "ipython3",
   "version": "3.6.9"
  }
 },
 "nbformat": 4,
 "nbformat_minor": 4
}
